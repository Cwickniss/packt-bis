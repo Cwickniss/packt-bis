{
 "cells": [
  {
   "cell_type": "markdown",
   "metadata": {},
   "source": [
    "# Recurrent Neural Networks"
   ]
  },
  {
   "cell_type": "markdown",
   "metadata": {},
   "source": [
    "These are networks that have a different structure. Instead of passing the weights from one layer to the next, there is part of it that stays within the network, stored in a hidden state. \n",
    "\n",
    "This looks as follows:"
   ]
  },
  {
   "cell_type": "markdown",
   "metadata": {},
   "source": [
    "or, to put it in a different way:\n",
    "\n",
    "<img src='./img/RNN-unrolled.png' width=\"700px\">\n",
    "\n"
   ]
  },
  {
   "cell_type": "markdown",
   "metadata": {},
   "source": [
    "What can you do with recurrent neural networks? They are useful to keep longer term dependencies between input and output. \n",
    "\n",
    "This is kind of a problem very often in sequential decision making: the output makes sense after some complicated combination of different stimuli.\n",
    "\n",
    "Many interesting use cases of RNN are described here:\n",
    "\n",
    "http://karpathy.github.io/2015/05/21/rnn-effectiveness/"
   ]
  },
  {
   "cell_type": "code",
   "execution_count": 1,
   "metadata": {},
   "outputs": [
    {
     "name": "stderr",
     "output_type": "stream",
     "text": [
      "C:\\Users\\pablo\\Anaconda3\\envs\\packt\\lib\\site-packages\\h5py\\__init__.py:36: FutureWarning: Conversion of the second argument of issubdtype from `float` to `np.floating` is deprecated. In future, it will be treated as `np.float64 == np.dtype(float).type`.\n",
      "  from ._conv import register_converters as _register_converters\n",
      "Using TensorFlow backend.\n"
     ]
    }
   ],
   "source": [
    "from keras.models import Sequential\n",
    "from keras.layers import Dense, Activation, Dropout\n",
    "from keras.layers import LSTM\n",
    "from keras.optimizers import RMSprop\n",
    "import numpy as np\n",
    "import random\n",
    "import sys"
   ]
  },
  {
   "cell_type": "markdown",
   "metadata": {},
   "source": [
    "#### 1. Read some data\n",
    "\n",
    "We will import a text file of female names."
   ]
  },
  {
   "cell_type": "code",
   "execution_count": 2,
   "metadata": {},
   "outputs": [],
   "source": [
    "f = open('./data/female.txt','r')"
   ]
  },
  {
   "cell_type": "markdown",
   "metadata": {},
   "source": [
    "#### 2. Preprocessing\n",
    "\n",
    "The preprocessing step will consist of three phases this time:\n",
    "- Read the names as a long string.\n",
    "- Get overlapping pairs of (sequence, next_character). \n",
    "- Encode the pairs above into one-hot vectors."
   ]
  },
  {
   "cell_type": "code",
   "execution_count": 3,
   "metadata": {},
   "outputs": [],
   "source": [
    "text_lines = f.readlines()"
   ]
  },
  {
   "cell_type": "code",
   "execution_count": 4,
   "metadata": {},
   "outputs": [],
   "source": [
    "text = ' '.join(text_lines)"
   ]
  },
  {
   "cell_type": "markdown",
   "metadata": {},
   "source": [
    "The processed text look as follows:"
   ]
  },
  {
   "cell_type": "code",
   "execution_count": 12,
   "metadata": {},
   "outputs": [
    {
     "data": {
      "text/plain": [
       "'Abagael\\n Abagail\\n Abbe\\n Abbey\\n Abbi\\n Abbie\\n Abby\\n Abigael\\n Abigail\\n Abigale\\n Abra\\n Acacia\\n Ada\\n Adah'"
      ]
     },
     "execution_count": 12,
     "metadata": {},
     "output_type": "execute_result"
    }
   ],
   "source": [
    "text[0:100]"
   ]
  },
  {
   "cell_type": "code",
   "execution_count": 5,
   "metadata": {},
   "outputs": [
    {
     "name": "stdout",
     "output_type": "stream",
     "text": [
      "total chars: 56\n"
     ]
    }
   ],
   "source": [
    "chars = sorted(list(set(text)))\n",
    "print('total chars:', len(chars))\n",
    "char_indices = dict((c, i) for i, c in enumerate(chars))\n",
    "indices_char = dict((i, c) for i, c in enumerate(chars))"
   ]
  },
  {
   "cell_type": "markdown",
   "metadata": {},
   "source": [
    "We now cut the text in semi-redundant sequences of `maxlen` characters\n"
   ]
  },
  {
   "cell_type": "code",
   "execution_count": 6,
   "metadata": {},
   "outputs": [
    {
     "name": "stdout",
     "output_type": "stream",
     "text": [
      "Number of sequences: 40566\n"
     ]
    }
   ],
   "source": [
    "maxlen = 10\n",
    "step = 1\n",
    "sentences = []\n",
    "next_chars = []\n",
    "for i in range(0, len(text) - maxlen, step):\n",
    "    sentences.append(text[i: i + maxlen])\n",
    "    next_chars.append(text[i + maxlen])\n",
    "print('Number of sequences:', len(sentences))"
   ]
  },
  {
   "cell_type": "markdown",
   "metadata": {},
   "source": [
    "After this preprocessing step, our text file looks as follows:"
   ]
  },
  {
   "cell_type": "code",
   "execution_count": 18,
   "metadata": {},
   "outputs": [
    {
     "name": "stdout",
     "output_type": "stream",
     "text": [
      "['\\n Abagail\\n', ' Abagail\\n ', 'Abagail\\n A', 'bagail\\n Ab', 'agail\\n Abb', 'gail\\n Abbe', 'ail\\n Abbe\\n', 'il\\n Abbe\\n ']\n",
      "[' ', 'A', 'b', 'b', 'e', '\\n', ' ', 'A']\n"
     ]
    }
   ],
   "source": [
    "print(sentences[7:15])\n",
    "print(next_chars[7:15])"
   ]
  },
  {
   "cell_type": "markdown",
   "metadata": {},
   "source": [
    "Our final preprocessing step is to generate a one-hot vector for each pair of sentence and succesor character."
   ]
  },
  {
   "cell_type": "code",
   "execution_count": 19,
   "metadata": {},
   "outputs": [
    {
     "name": "stdout",
     "output_type": "stream",
     "text": [
      "Vectorization complete!\n"
     ]
    }
   ],
   "source": [
    "X = np.zeros((len(sentences), maxlen, len(chars)), dtype=np.bool)\n",
    "y = np.zeros((len(sentences), len(chars)), dtype=np.bool)\n",
    "for i, sentence in enumerate(sentences):\n",
    "    for t, char in enumerate(sentence):\n",
    "        X[i, t, char_indices[char]] = 1\n",
    "    y[i, char_indices[next_chars[i]]] = 1\n",
    "print('Vectorization complete!')\n",
    "    "
   ]
  },
  {
   "cell_type": "markdown",
   "metadata": {},
   "source": [
    "#### 3. Build the model\n",
    "\n",
    "We will use again `keras` friendly API to add an LSTM and a dense layer. \n",
    "\n",
    "The predictions will be generated using a softmax function, so that we can use those scores as probabilities for generating the next character."
   ]
  },
  {
   "cell_type": "code",
   "execution_count": 20,
   "metadata": {},
   "outputs": [
    {
     "name": "stdout",
     "output_type": "stream",
     "text": [
      "Build model...\n"
     ]
    }
   ],
   "source": [
    "# build the model: 2 stacked LSTM\n",
    "print('Build model...')\n",
    "model = Sequential()\n",
    "model.add(LSTM(128, input_shape=(maxlen, len(chars))))\n",
    "model.add(Dense(len(chars)))\n",
    "model.add(Activation('softmax'))\n",
    "\n",
    "optimizer = RMSprop(lr=0.01)\n",
    "model.compile(loss='categorical_crossentropy', optimizer=optimizer)"
   ]
  },
  {
   "cell_type": "markdown",
   "metadata": {},
   "source": [
    "We need an auxiliary function to generate the next character using the outputs of the model."
   ]
  },
  {
   "cell_type": "code",
   "execution_count": 21,
   "metadata": {},
   "outputs": [],
   "source": [
    "def sample(preds, temperature=1.0):\n",
    "    # helper function to sample an index from a probability array\n",
    "    preds = np.asarray(preds).astype('float64')\n",
    "    preds = np.log(preds) / temperature\n",
    "    exp_preds = np.exp(preds)\n",
    "    preds = exp_preds / np.sum(exp_preds)\n",
    "    probas = np.random.multinomial(1, preds, 1)\n",
    "    return np.argmax(probas)"
   ]
  },
  {
   "cell_type": "markdown",
   "metadata": {},
   "source": [
    "#### 4. Train the model and see it generate some names!"
   ]
  },
  {
   "cell_type": "code",
   "execution_count": 22,
   "metadata": {},
   "outputs": [
    {
     "name": "stdout",
     "output_type": "stream",
     "text": [
      "\n",
      "--------------------------------------------------\n",
      "Iteration 1\n",
      "Epoch 1/2\n",
      "40566/40566 [==============================] - 7s 177us/step - loss: 1.8696\n",
      "Epoch 2/2\n",
      "40566/40566 [==============================] - 7s 174us/step - loss: 1.0931\n",
      "\n",
      "----- diversity: 0.2\n",
      "----- Generating with seed: \"rissa\n",
      " Mar\"\n",
      "\n",
      "Generated\n",
      "rissa\n",
      " Marissa\n",
      " Maris\n",
      " Marissa\n",
      "\n",
      "----- diversity: 0.5\n",
      "----- Generating with seed: \"rissa\n",
      " Mar\"\n",
      "\n",
      "Generated\n",
      "rissa\n",
      " Marisa\n",
      " Marith\n",
      " Mariti\n",
      "\n",
      "\n",
      "----- diversity: 1.0\n",
      "----- Generating with seed: \"rissa\n",
      " Mar\"\n",
      "\n",
      "Generated\n",
      "rissa\n",
      " Martsa\n",
      " Marerisua\n",
      " Peli\n",
      "\n",
      "----- diversity: 1.2\n",
      "----- Generating with seed: \"rissa\n",
      " Mar\"\n",
      "\n",
      "Generated\n",
      "rissa\n",
      " Marisacde\n",
      " Arianna\n",
      " Are\n",
      "\n",
      "--------------------------------------------------\n",
      "Iteration 2\n",
      "Epoch 1/2\n",
      "40566/40566 [==============================] - 8s 208us/step - loss: 0.9264\n",
      "Epoch 2/2\n",
      "40566/40566 [==============================] - 9s 212us/step - loss: 0.8216\n",
      "\n",
      "----- diversity: 0.2\n",
      "----- Generating with seed: \"tta\n",
      " Letti\"\n",
      "\n",
      "Generated\n",
      "tta\n",
      " Letti\n",
      " Lettie\n",
      " Letil\n",
      " Let\n",
      "\n",
      "----- diversity: 0.5\n",
      "----- Generating with seed: \"tta\n",
      " Letti\"\n",
      "\n",
      "Generated\n",
      "tta\n",
      " Letti\n",
      " Lettie\n",
      " Letile\n",
      " Le\n",
      "\n",
      "----- diversity: 1.0\n",
      "----- Generating with seed: \"tta\n",
      " Letti\"\n",
      "\n",
      "Generated\n",
      "tta\n",
      " Letti\n",
      " Letcit\n",
      " Leric\n",
      " Ler\n",
      "\n",
      "----- diversity: 1.2\n",
      "----- Generating with seed: \"tta\n",
      " Letti\"\n",
      "\n",
      "Generated\n",
      "tta\n",
      " Letti\n",
      " Levrietta\n",
      " Bricgit\n",
      "\n",
      "--------------------------------------------------\n",
      "Iteration 3\n",
      "Epoch 1/2\n",
      "40566/40566 [==============================] - 8s 209us/step - loss: 0.7377\n",
      "Epoch 2/2\n",
      "40566/40566 [==============================] - 8s 209us/step - loss: 0.6560\n",
      "\n",
      "----- diversity: 0.2\n",
      "----- Generating with seed: \"a\n",
      " Odelle\n",
      "\"\n",
      "\n",
      "Generated\n",
      "a\n",
      " Odelle\n",
      " Odena\n",
      " Odeline\n",
      " Ode\n",
      "\n",
      "----- diversity: 0.5\n",
      "----- Generating with seed: \"a\n",
      " Odelle\n",
      "\"\n",
      "\n",
      "Generated\n",
      "a\n",
      " Odelle\n",
      " Odena\n",
      " Odelia\n",
      " Odel\n",
      "\n",
      "----- diversity: 1.0\n",
      "----- Generating with seed: \"a\n",
      " Odelle\n",
      "\"\n",
      "\n",
      "Generated\n",
      "a\n",
      " Odelle\n",
      " Odelle\n",
      " Oden\n",
      " Odera\n",
      "\n",
      "----- diversity: 1.2\n",
      "----- Generating with seed: \"a\n",
      " Odelle\n",
      "\"\n",
      "\n",
      "Generated\n",
      "a\n",
      " Odelle\n",
      " Odelia\n",
      " Odelea\n",
      " Ode\n",
      "\n",
      "--------------------------------------------------\n",
      "Iteration 4\n",
      "Epoch 1/2\n",
      "40566/40566 [==============================] - 9s 216us/step - loss: 0.5952\n",
      "Epoch 2/2\n",
      "40566/40566 [==============================] - 9s 221us/step - loss: 0.5337\n",
      "\n",
      "----- diversity: 0.2\n",
      "----- Generating with seed: \"ka\n",
      " Katlee\"\n",
      "\n",
      "Generated\n",
      "ka\n",
      " Katlee\n",
      " Katrin\n",
      " Katherine\n",
      "\n",
      "\n",
      "----- diversity: 0.5\n",
      "----- Generating with seed: \"ka\n",
      " Katlee\"\n",
      "\n",
      "Generated\n",
      "ka\n",
      " Katleen\n",
      " Kat\n",
      "meann\n",
      " Marme-\n",
      "\n",
      "----- diversity: 1.0\n",
      "----- Generating with seed: \"ka\n",
      " Katlee\"\n",
      "\n",
      "Generated\n",
      "ka\n",
      " Katlee\n",
      " Kate\n",
      " Katerina\n",
      " Ka\n",
      "\n",
      "----- diversity: 1.2\n",
      "----- Generating with seed: \"ka\n",
      " Katlee\"\n",
      "\n",
      "Generated\n",
      "ka\n",
      " Katleena\n",
      " Kathleen\n",
      " Kather\n"
     ]
    }
   ],
   "source": [
    "# train the model, output generated text after each iteration\n",
    "for iteration in range(1, 5):\n",
    "    print()\n",
    "    print('-' * 50)\n",
    "    print('Iteration', iteration)\n",
    "    model.fit(X, y, batch_size=128, epochs=2)\n",
    "\n",
    "    start_index = random.randint(0, len(text) - maxlen - 1)\n",
    "\n",
    "    for diversity in [0.2, 0.5, 1.0, 1.2]:\n",
    "        print()\n",
    "        print('----- diversity:', diversity)\n",
    "\n",
    "        generated = ''\n",
    "        sentence = text[start_index: start_index + maxlen]\n",
    "        generated += sentence\n",
    "        print('----- Generating with seed: \"' + sentence + '\"')\n",
    "        print('\\nGenerated')\n",
    "        sys.stdout.write(generated)\n",
    "\n",
    "        for i in range(20):\n",
    "            x = np.zeros((1, maxlen, len(chars)))\n",
    "            for t, char in enumerate(sentence):\n",
    "                x[0, t, char_indices[char]] = 1.\n",
    "\n",
    "            preds = model.predict(x, verbose=0)[0]\n",
    "            next_index = sample(preds, diversity)\n",
    "            next_char = indices_char[next_index]\n",
    "\n",
    "            generated += next_char\n",
    "            sentence = sentence[1:] + next_char\n",
    "\n",
    "            sys.stdout.write(next_char)\n",
    "            sys.stdout.flush()\n",
    "        print()"
   ]
  }
 ],
 "metadata": {
  "anaconda-cloud": {},
  "kernelspec": {
   "display_name": "Python 3",
   "language": "python",
   "name": "python3"
  },
  "language_info": {
   "codemirror_mode": {
    "name": "ipython",
    "version": 3
   },
   "file_extension": ".py",
   "mimetype": "text/x-python",
   "name": "python",
   "nbconvert_exporter": "python",
   "pygments_lexer": "ipython3",
   "version": "3.6.5"
  }
 },
 "nbformat": 4,
 "nbformat_minor": 2
}
